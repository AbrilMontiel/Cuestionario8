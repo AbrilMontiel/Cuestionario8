{
  "nbformat": 4,
  "nbformat_minor": 0,
  "metadata": {
    "colab": {
      "name": "ListasLigadasADT-1310.ipynb",
      "provenance": [],
      "authorship_tag": "ABX9TyOjj9EEDc+W7+Utkp8W/6ey",
      "include_colab_link": true
    },
    "kernelspec": {
      "name": "python3",
      "display_name": "Python 3"
    },
    "language_info": {
      "name": "python"
    }
  },
  "cells": [
    {
      "cell_type": "markdown",
      "metadata": {
        "id": "view-in-github",
        "colab_type": "text"
      },
      "source": [
        "<a href=\"https://colab.research.google.com/github/AbrilMontiel/Cuestionario8/blob/master/ListasLigadasADT_1310.ipynb\" target=\"_parent\"><img src=\"https://colab.research.google.com/assets/colab-badge.svg\" alt=\"Open In Colab\"/></a>"
      ]
    },
    {
      "cell_type": "markdown",
      "metadata": {
        "id": "4bGLpGOw0lJm"
      },
      "source": [
        "# Ejercicios con la clase Nodo\n",
        "- Crear un nodo.\n",
        " - Imprimir el valor del nodo.\n",
        "- Crear dos nodos.\n",
        " - Imprimir el valor del primero.\n",
        " - Im primir el valor del segundo.\n",
        " - Transversal.\n",
        "- Lo mismo pero con 4 nodos ( 10, 20, 30, 40 ).\n",
        " - Imprimir el valor del primero.\n",
        " - Imprimiir el valor del ultimo.\n",
        " - Transversal.\n",
        " - Insertar el Nodo 25, despues del Nodo 20 y antes del Nodo 30.\n",
        "\n",
        " ## Todo esto antes de ir a la escritura formal del ADT Lista Ligada"
      ]
    },
    {
      "cell_type": "code",
      "metadata": {
        "id": "Sicq_pPG0Yq9"
      },
      "source": [
        "class Nodo:\n",
        "  def __init__( self, value, siguiente = None ):\n",
        "    self.data = value\n",
        "    self.next = siguiente"
      ],
      "execution_count": 25,
      "outputs": []
    },
    {
      "cell_type": "code",
      "metadata": {
        "colab": {
          "base_uri": "https://localhost:8080/"
        },
        "id": "A6X7vHcC142R",
        "outputId": "7902a204-2dd5-4c7a-808a-1535cd8d9c14"
      },
      "source": [
        "head = Nodo( 10 )\n",
        "print( head.data )"
      ],
      "execution_count": 26,
      "outputs": [
        {
          "output_type": "stream",
          "name": "stdout",
          "text": [
            "10\n"
          ]
        }
      ]
    },
    {
      "cell_type": "code",
      "metadata": {
        "colab": {
          "base_uri": "https://localhost:8080/"
        },
        "id": "fgZ-ZnFd2h5-",
        "outputId": "2af4fc70-7391-4781-f5ef-a008938b4ca5"
      },
      "source": [
        "head = Nodo( 10 )\n",
        "head.next = Nodo( 20 )\n",
        "print( f\"Primero = { head.data }\" )\n",
        "print( f\"Segundo = { head.next.data }\") \n",
        "\n",
        "#Lo mismo pero ahorrando codigo\n",
        "print(\"----------------------------------\")\n",
        "head = Nodo( 10, Nodo( 20 ) )\n",
        "print( f\"Primero = { head.data }\" )\n",
        "print( f\"Segundo = { head.next.data }\") \n",
        "\n",
        "#Transversal\n",
        "print(\"----------------------------------\")\n",
        "curr_node = head\n",
        "while curr_node != None:\n",
        "  print( f\"| { curr_node.data } | --> \", end=\"\" )\n",
        "  curr_node = curr_node.next\n",
        "print(\"\")\n"
      ],
      "execution_count": 27,
      "outputs": [
        {
          "output_type": "stream",
          "name": "stdout",
          "text": [
            "Primero = 10\n",
            "Segundo = 20\n",
            "----------------------------------\n",
            "Primero = 10\n",
            "Segundo = 20\n",
            "----------------------------------\n",
            "| 10 | --> | 20 | --> \n"
          ]
        }
      ]
    },
    {
      "cell_type": "code",
      "metadata": {
        "colab": {
          "base_uri": "https://localhost:8080/"
        },
        "id": "OzoOTn1c673C",
        "outputId": "fc52a337-7e24-4eda-9ddb-08bdf1fac33e"
      },
      "source": [
        "#Transversal\n",
        "head = Nodo( 10, Nodo( 20, Nodo( 30, Nodo( 40 ) ) ) )\n",
        "curr_node = head\n",
        "while curr_node != None:\n",
        "  print( f\"| { curr_node.data } | --> \", end=\"\" )\n",
        "  curr_node = curr_node.next\n",
        "print(\"\")\n",
        "\n",
        "#Imprimir el primero\n",
        "print(\"-------------------------\")\n",
        "print( head.data )\n",
        "#Imprimir el ultimo\n",
        "print(\"-------------------------\")\n",
        "curr_node = head\n",
        "while curr_node.next != None:\n",
        "  curr_node = curr_node.next\n",
        "print( curr_node.data )\n",
        "\n",
        "#Insertar el Nodo 25, despues del Nodo 20 y antes del Nodo 30\n",
        "print(\"-------------------------\")\n",
        "curr_node = head\n",
        "while curr_node.data != 20:\n",
        "  curr_node = curr_node.next\n",
        "print( curr_node.data )\n",
        "\n",
        "#crear el nodo 25\n",
        "print(\"------------------------\")\n",
        "curr_node.next = Nodo( 25, curr_node.next )\n",
        "\n",
        "#Transversal\n",
        "curr_node = head\n",
        "while curr_node != None:\n",
        "  print( f\"| { curr_node.data } | --> \", end=\"\" )\n",
        "  curr_node = curr_node.next\n",
        "print(\"\")\n"
      ],
      "execution_count": 28,
      "outputs": [
        {
          "output_type": "stream",
          "name": "stdout",
          "text": [
            "| 10 | --> | 20 | --> | 30 | --> | 40 | --> \n",
            "-------------------------\n",
            "10\n",
            "-------------------------\n",
            "40\n",
            "-------------------------\n",
            "20\n",
            "------------------------\n",
            "| 10 | --> | 20 | --> | 25 | --> | 30 | --> | 40 | --> \n"
          ]
        }
      ]
    },
    {
      "cell_type": "code",
      "metadata": {
        "id": "MAfnMk5pc6D3"
      },
      "source": [
        "class LinkedList:\n",
        "  def __init__( self ):\n",
        "    self.head = None\n",
        "\n",
        "  def is_empty( self ): #true o false\n",
        "    return self.head == None\n",
        "\n",
        "  def get_tail( self ):\n",
        "    if self.is_empty():\n",
        "      return None\n",
        "    else:\n",
        "      curr_node = self.head\n",
        "      while curr_node.next != None:\n",
        "        curr_node = curr_node.next\n",
        "      return curr_node\n",
        "\n",
        "  def append( self, value ):\n",
        "    if self.head == None:\n",
        "       self.head = Nodo( value )\n",
        "    else:\n",
        "      curr_node = self.head\n",
        "      while curr_node.next != None:\n",
        "        curr_node = curr_node.next\n",
        "      curr_node.next = Nodo( value )\n",
        "\n",
        "  def trasversal( self ):\n",
        "    curr_node = self.head\n",
        "    while curr_node.next != None:\n",
        "      print(f\"| {curr_node.data} | -->\", end=\"\")\n",
        "      curr_node = curr_node.next\n",
        "    print(\"\")\n",
        "\n",
        "  def remove( self, value ):\n",
        "    if self.head == None:\n",
        "      print(\"Lista vacia, no se puede remover nada\")\n",
        "    else:\n",
        "      curr_node = self.head\n",
        "      aux = None\n",
        "      while curr_node.data != value:\n",
        "        aux = curr_node\n",
        "        curr_node = curr_node.next\n",
        "    \n",
        "      if curr_node != None:\n",
        "       aux.next = curr_node.next\n",
        "       curr_node = None\n",
        "\n",
        "  def preppend( self, value ):\n",
        "    if self.head == None:\n",
        "      print(\"Esta vacio, no puede hacer preppend\")\n",
        "    else:\n",
        "      aux = self.head\n",
        "      self.head = Nodo( value, aux )\n",
        "\n",
        "\n"
      ],
      "execution_count": 52,
      "outputs": []
    },
    {
      "cell_type": "code",
      "metadata": {
        "colab": {
          "base_uri": "https://localhost:8080/"
        },
        "id": "0yCbFaWpfhRl",
        "outputId": "5220d9cf-9145-4b79-e411-21615a2fc98a"
      },
      "source": [
        "lista = LinkedList()\n",
        "if lista.is_empty():\n",
        "    print(\"La lista está vacia\")\n",
        "else:\n",
        "    print(\"La lista no está vacia\")\n",
        "\n",
        "lista.append(10)\n",
        "lista.append(20)\n",
        "lista.append(30)\n",
        "lista.append(40)\n",
        "lista.append(50)\n",
        "\n",
        "nodo = lista.get_tail()\n",
        "if nodo != None:\n",
        "    print(nodo.data)\n",
        "else:\n",
        "    print(\"Lista vacia\")\n",
        "\n",
        "lista.trasversal()\n",
        "lista.remove(30)\n",
        "lista.trasversal()\n",
        "lista.preppend(5)\n",
        "print(\"Despues del preppend\")\n",
        "lista.trasversal()"
      ],
      "execution_count": 53,
      "outputs": [
        {
          "output_type": "stream",
          "name": "stdout",
          "text": [
            "La lista está vacia\n",
            "50\n",
            "| 10 | -->| 20 | -->| 30 | -->| 40 | -->\n",
            "| 10 | -->| 20 | -->| 40 | -->\n",
            "Despues del preppend\n",
            "| 5 | -->| 10 | -->| 20 | -->| 40 | -->\n"
          ]
        }
      ]
    }
  ]
}